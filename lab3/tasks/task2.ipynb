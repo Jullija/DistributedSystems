{
 "cells": [
  {
   "cell_type": "code",
   "execution_count": null,
   "metadata": {},
   "outputs": [],
   "source": [
    "import ray\n",
    "ray.init()"
   ]
  },
  {
   "cell_type": "code",
   "execution_count": 4,
   "metadata": {},
   "outputs": [
    {
     "name": "stdout",
     "output_type": "stream",
     "text": [
      "\u001b[33m(raylet)\u001b[0m A worker died or was killed while executing a task by an unexpected system error. To troubleshoot the problem, check the logs for the dead worker. RayTask ID: fffffffffffffffff6599556838bdba5d8eeca9801000000 Worker ID: 0d80cb952ce64209023c84f25261b15e7236488305f3ba23e9f18ab2 Node ID: 347b33641aa934828d1255e9b27df7adaa061ab8cd7779bc9f1b5276 Worker IP address: 127.0.0.1 Worker port: 64688 Worker PID: 6768 Worker exit type: SYSTEM_ERROR Worker exit detail: Worker exits unexpectedly by a signal. SystemExit is raised (sys.exit is called). Exit code: 1. The process receives a SIGTERM.\n",
      "Cluster Status: {'example_artifact': {0: [2, 2]}}\n"
     ]
    }
   ],
   "source": [
    "import ray\n",
    "import random\n",
    "\n",
    "@ray.remote\n",
    "class StorageNode:\n",
    "    def __init__(self, node_id):\n",
    "        self.node_id = node_id\n",
    "        self.chunks = {}\n",
    "\n",
    "    def store_chunk(self, chunk_id, chunk_content):\n",
    "        self.chunks[chunk_id] = chunk_content\n",
    "        return True\n",
    "\n",
    "    def retrieve_chunk(self, chunk_id):\n",
    "        return self.chunks.get(chunk_id, None)\n",
    "\n",
    "\n",
    "@ray.remote\n",
    "class NameNode:\n",
    "    def __init__(self):\n",
    "        self.artifacts_metadata = {}\n",
    "        self.storage_nodes = {}\n",
    "        self.node_counter = 0\n",
    "\n",
    "    def register_storage_node(self):\n",
    "        node_id = self.node_counter\n",
    "        new_node = StorageNode.remote(node_id)\n",
    "        self.storage_nodes[node_id] = new_node\n",
    "        self.node_counter += 1\n",
    "        return node_id\n",
    "\n",
    "    def upload_artifact(self, artifact_name, content, replication_factor=2):\n",
    "        chunk_size = 1024  # Example chunk size\n",
    "        chunks = [content[i:i+chunk_size] for i in range(0, len(content), chunk_size)]\n",
    "        self.artifacts_metadata[artifact_name] = []\n",
    "        for chunk_id, chunk in enumerate(chunks):\n",
    "            stored_nodes = []\n",
    "            for _ in range(replication_factor):\n",
    "                node_id, storage_node = random.choice(list(self.storage_nodes.items()))\n",
    "                ray.get(storage_node.store_chunk.remote(f\"{artifact_name}_{chunk_id}\", chunk))\n",
    "                stored_nodes.append(node_id)\n",
    "            self.artifacts_metadata[artifact_name].append((chunk_id, stored_nodes))\n",
    "        return True\n",
    "\n",
    "    def list_status(self):\n",
    "        status = {}\n",
    "        for artifact_name, chunks_info in self.artifacts_metadata.items():\n",
    "            status[artifact_name] = {}\n",
    "            for chunk_id, nodes in chunks_info:\n",
    "                status[artifact_name][chunk_id] = nodes\n",
    "        return status\n",
    "\n",
    "\n",
    "# Initialize NameNode\n",
    "name_node = NameNode.remote()\n",
    "\n",
    "# Register some StorageNodes\n",
    "for _ in range(5):  # Create 5 storage nodes\n",
    "    name_node.register_storage_node.remote()\n",
    "\n",
    "# Upload an artifact\n",
    "artifact_name = \"example_artifact\"\n",
    "artifact_content = \"This is a simple example of storing an artifact in the distributed storage system.\"\n",
    "ray.get(name_node.upload_artifact.remote(artifact_name, artifact_content))\n",
    "\n",
    "# List the status of the cluster\n",
    "status = ray.get(name_node.list_status.remote())\n",
    "print(\"Cluster Status:\", status)\n"
   ]
  }
 ],
 "metadata": {
  "kernelspec": {
   "display_name": "Python 3.11.5 ('base')",
   "language": "python",
   "name": "python3"
  },
  "language_info": {
   "codemirror_mode": {
    "name": "ipython",
    "version": 3
   },
   "file_extension": ".py",
   "mimetype": "text/x-python",
   "name": "python",
   "nbconvert_exporter": "python",
   "pygments_lexer": "ipython3",
   "version": "3.11.5"
  },
  "orig_nbformat": 4,
  "vscode": {
   "interpreter": {
    "hash": "3468645cd49f0b6a74e41f8fcab4fe2063f99dd2d37c71a7a7ab5e425ddf23a7"
   }
  }
 },
 "nbformat": 4,
 "nbformat_minor": 2
}
